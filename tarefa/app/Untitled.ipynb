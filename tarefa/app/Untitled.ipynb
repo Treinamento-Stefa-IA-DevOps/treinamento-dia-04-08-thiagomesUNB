{
 "cells": [
  {
   "cell_type": "code",
   "execution_count": 4,
   "id": "b13bac6a",
   "metadata": {},
   "outputs": [],
   "source": [
    "fid = open('Titanic.pkl', 'rb') "
   ]
  },
  {
   "cell_type": "code",
   "execution_count": 5,
   "id": "0d77100b",
   "metadata": {},
   "outputs": [
    {
     "data": {
      "text/plain": [
       "<_io.BufferedReader name='Titanic.pkl'>"
      ]
     },
     "execution_count": 5,
     "metadata": {},
     "output_type": "execute_result"
    }
   ],
   "source": [
    "fid"
   ]
  },
  {
   "cell_type": "code",
   "execution_count": 6,
   "id": "4d2f3960",
   "metadata": {},
   "outputs": [
    {
     "name": "stdout",
     "output_type": "stream",
     "text": [
      "Files in '/home/thiago/Desktop/treinamento-dia-04-08-thiagomesUNB/tarefa/app': ['.ipynb_checkpoints', 'Titanic.pkl', 'main.py', 'Untitled.ipynb', 'requirements', 'model', '__pycache__']\n"
     ]
    }
   ],
   "source": [
    "import os\n",
    "\n",
    "cwd = os.getcwd()  # Get the current working directory (cwd)\n",
    "files = os.listdir(cwd)  # Get all the files in that directory\n",
    "print(\"Files in %r: %s\" % (cwd, files))"
   ]
  },
  {
   "cell_type": "code",
   "execution_count": 12,
   "id": "034e80d2",
   "metadata": {},
   "outputs": [
    {
     "data": {
      "text/plain": [
       "['.ipynb_checkpoints',\n",
       " 'Titanic.pkl',\n",
       " 'main.py',\n",
       " 'Untitled.ipynb',\n",
       " 'requirements',\n",
       " 'model',\n",
       " '__pycache__']"
      ]
     },
     "execution_count": 12,
     "metadata": {},
     "output_type": "execute_result"
    }
   ],
   "source": [
    "os.listdir()"
   ]
  },
  {
   "cell_type": "code",
   "execution_count": null,
   "id": "22b93769",
   "metadata": {},
   "outputs": [],
   "source": []
  }
 ],
 "metadata": {
  "kernelspec": {
   "display_name": "Python 3 (ipykernel)",
   "language": "python",
   "name": "python3"
  },
  "language_info": {
   "codemirror_mode": {
    "name": "ipython",
    "version": 3
   },
   "file_extension": ".py",
   "mimetype": "text/x-python",
   "name": "python",
   "nbconvert_exporter": "python",
   "pygments_lexer": "ipython3",
   "version": "3.8.10"
  }
 },
 "nbformat": 4,
 "nbformat_minor": 5
}
